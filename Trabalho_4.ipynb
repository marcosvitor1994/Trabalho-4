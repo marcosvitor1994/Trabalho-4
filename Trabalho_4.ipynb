{
  "nbformat": 4,
  "nbformat_minor": 0,
  "metadata": {
    "colab": {
      "name": "Trabalho 4",
      "provenance": [],
      "collapsed_sections": [],
      "authorship_tag": "ABX9TyN/8ue0m7DdpWr1itrDfP7j",
      "include_colab_link": true
    },
    "kernelspec": {
      "name": "python3",
      "display_name": "Python 3"
    }
  },
  "cells": [
    {
      "cell_type": "markdown",
      "metadata": {
        "id": "view-in-github",
        "colab_type": "text"
      },
      "source": [
        "<a href=\"https://colab.research.google.com/github/marcosvitor1994/Trabalho-4/blob/main/Trabalho_4.ipynb\" target=\"_parent\"><img src=\"https://colab.research.google.com/assets/colab-badge.svg\" alt=\"Open In Colab\"/></a>"
      ]
    },
    {
      "cell_type": "code",
      "metadata": {
        "id": "Sy1nPSF-9nvZ",
        "colab": {
          "base_uri": "https://localhost:8080/"
        },
        "outputId": "a9ed8aaf-8c9a-4921-ab96-560acc39301c"
      },
      "source": [
        "#Aluno: MARCOS VITOR DIAS DOS SANTOS\n",
        "#Matrícula: 2014290065\n",
        "#Trabalho 4\n",
        "\n",
        "#1. Escreva um programa para ler o número de lados de um polígono regular e a\n",
        "#   medida do lado (em cm). Calcular e imprimir o seguinte: − Se o número de lados\n",
        "#   for igual a 3 escrever TRIÂNGULO e o valor da área − Se o número de lados for\n",
        "#   igual a 4 escrever QUADRADO e o valor da sua área. − Se o número de lados for\n",
        "#   igual a 5 escrever PENTÁGONO.#\n",
        "\n",
        "import math\n",
        "x = int(input(\"Digite o número de lados do poligono: \")) # inserindo o número de lados\n",
        "if x < 3 or x > 5: \n",
        "  while True: # laço para validar\n",
        "    print('Insira o número de lados correspondente corretamente')\n",
        "    x = int(input(\"Digite o número de lados do poligono: \"))\n",
        "    if x >= 3 and x <=5:\n",
        "      break\n",
        "\n",
        "if x >= 3 and x < 4: # se for triangulo\n",
        "      t1 = (float(input('Digite o tamanho da base do triângulo (cm): ')))\n",
        "      t2 = (float(input('Digite o tamanho do primeiro lado (cm): ')))\n",
        "      t3 = (float(input('Digite o tamanho do segundo lado (cm): ')))\n",
        "      areaT = ((t2*t2)*(math.sqrt(3)))/4 #area do triangulo\n",
        "      print(\"TRIÂNGULO\")\n",
        "      print(f'A area do triangulo é {areaT} cm3')\n",
        "elif x >= 4 and x < 5: # se for quadrilatero\n",
        "      q1 = (float(input('Digite o tamanho da base do quadrilatero (cm): ')))\n",
        "      q2 = (float(input('Digite o tamanho da altura do quadrilatero (cm): ')))\n",
        "      areaQ = q1 * q2 # area do quadrilatero\n",
        "      print(\"QUADRADO\")\n",
        "      print(f'A area do quadrado é {areaQ} cm2')\n",
        "elif x >= 5 and x <= 5: # se for pentagono\n",
        "      print(\"PENTÁGONO\")\n",
        "\n",
        "\n"
      ],
      "execution_count": null,
      "outputs": [
        {
          "output_type": "stream",
          "text": [
            "Digite o número de lados do poligono: 5\n",
            "PENTAGONO\n"
          ],
          "name": "stdout"
        }
      ]
    },
    {
      "cell_type": "code",
      "metadata": {
        "id": "jpacuJzQdVoJ",
        "colab": {
          "base_uri": "https://localhost:8080/"
        },
        "outputId": "34599f97-7374-41de-d365-3052245f715d"
      },
      "source": [
        "#2. Acrescente as seguintes mensagens à solução do exercício anterior conforme o\n",
        "#   caso. − Caso o número de lados seja inferior a 3 escrever NÃO É UM\n",
        "#   POLÍGONO. − Caso o número de lados seja superior a 5 escrever POLÍGONO\n",
        "#   NÃO IDENTIFICADO.\n",
        "\n",
        "import math\n",
        "x = int(input(\"Digite o número de lados do poligono: \")) # inserindo o número de lados\n",
        "if x < 3 or x > 5: \n",
        "  while True: # laço para validar\n",
        "    if x < 3: # primeiro caso\n",
        "      print('NÃO É UM POLÍGONO')\n",
        "    elif x > 5: #segundo caso\n",
        "      print('POLÍGONO NÃO IDENTIFICADO')\n",
        "    x = int(input(\"Digite o número de lados do poligono: \"))\n",
        "    if x >= 3 and x <=5:\n",
        "      break\n",
        "\n",
        "if x >= 3 and x < 4: # se for triangulo\n",
        "      t1 = (float(input('Digite o tamanho da base do triângulo (cm): ')))\n",
        "      t2 = (float(input('Digite o tamanho do primeiro lado (cm): ')))\n",
        "      t3 = (float(input('Digite o tamanho do segundo lado (cm): ')))\n",
        "      areaT = ((t2*t2)*(math.sqrt(3)))/4 # area do triangulo\n",
        "      print(\"TRIÂNGULO\")\n",
        "      print(f'A area do triangulo é {areaT} cm3')\n",
        "elif x >= 4 and x < 5: # se for quadrilatero\n",
        "      q1 = (float(input('Digite o tamanho da base do quadrilatero (cm): ')))\n",
        "      q2 = (float(input('Digite o tamanho da altura do quadrilatero (cm): ')))\n",
        "      areaQ = q1 * q2 # area do quadrilatero\n",
        "      print(\"QUADRADO\")\n",
        "      print(f'A area do quadrado é {areaQ} cm2')\n",
        "elif x >= 5 and x <= 5: # se for pentagono\n",
        "      print(\"PENTÁGONO\")\n",
        "\n"
      ],
      "execution_count": null,
      "outputs": [
        {
          "output_type": "stream",
          "text": [
            "Digite o número de lados do poligono: 5\n",
            "PENTÁGONO\n"
          ],
          "name": "stdout"
        }
      ]
    },
    {
      "cell_type": "code",
      "metadata": {
        "colab": {
          "base_uri": "https://localhost:8080/"
        },
        "id": "vmqFfIgjpfI-",
        "outputId": "ab457388-3289-4d32-bb20-183d5c367041"
      },
      "source": [
        "#3. Escreva um programa para ler 3 valores inteiros e escrever o maior deles.\n",
        "#   Considere que o usuário não informará valores iguais.\n",
        "\n",
        "num1 = float(input('Digite o primeiro número: '))\n",
        "num2 = float(input('Digite o segundo número: '))\n",
        "num3 = float(input('Digite o terceiro número: '))\n",
        "\n",
        "print('O maior númeor é:', max(num1,num2,num3)) #Usando max para descobrir qual o maior valor\n"
      ],
      "execution_count": null,
      "outputs": [
        {
          "output_type": "stream",
          "text": [
            "Digite o primeiro número: 8\n",
            "Digite o segundo número: 19\n",
            "Digite o terceiro número: 3\n",
            "O maior númeor é: 19.0\n"
          ],
          "name": "stdout"
        }
      ]
    },
    {
      "cell_type": "code",
      "metadata": {
        "colab": {
          "base_uri": "https://localhost:8080/"
        },
        "id": "_4czTZ1GqRUp",
        "outputId": "adc6d850-cda1-4528-d898-f9bce85a8f18"
      },
      "source": [
        "# 4. Escreva um programa que leia as medidas dos lados de um triângulo e escreva\n",
        "# se ele é Equilátero, Isósceles ou Escaleno. Sendo que: − Triângulo Equilátero:\n",
        "# possui os 3 lados iguais. − Triângulo Isóscele: possui 2 lados iguais. − Triângulo\n",
        "# Escaleno: possui 3 lados diferentes\n",
        "\n",
        "print('Para descrobrir qual Triângulo é digite as seguintes informações: ') #Cabeçalho \n",
        "#Informações\n",
        "base1 = float(input('Digite o tamanho da base: '))\n",
        "lado1 = float(input('Digite o tamanho do primeiro lado: '))\n",
        "lado2 = float(input('Digite o tamanho do segundo lado: '))\n",
        "#Decifrando:\n",
        "if base1==lado1 and lado1==lado2: #Todos os lados iguais, Triângulo Equilátero\n",
        "  print(\"Triângulo Equilátero\")\n",
        "elif base1 != lado1 and base1 != lado2 and lado1 != lado2: #Todos os lados diferentes, Triângulo Escaleno\n",
        "  print(\"Triângulo Escaleno\")\n",
        "elif (base1 == lado1 and lado1 != lado2) or (base1 == lado2 and lado1 != lado2) or (base1 != lado1 and lado1 == lado2): #2 lados iguais 1 diferente, Triângulo Isóscele\n",
        "  print(\"Triângulo Isóscele\")\n"
      ],
      "execution_count": null,
      "outputs": [
        {
          "output_type": "stream",
          "text": [
            "Para descrobrir qual Triângulo é digite as seguintes informações: \n",
            "Digite o tamanho da base: 9\n",
            "Digite o tamnho do primeiro lado: 8\n",
            "Digite o tamnho do segundo lado: 9\n",
            "Triângulo Isóscele\n"
          ],
          "name": "stdout"
        }
      ]
    },
    {
      "cell_type": "code",
      "metadata": {
        "colab": {
          "base_uri": "https://localhost:8080/"
        },
        "id": "XxYIaoWfv0JS",
        "outputId": "7f9a6385-0b30-44b8-e114-e6f203855b76"
      },
      "source": [
        "# 5. Escreva um programa que leia o valor de 3 ângulos de um triângulo e escreva se\n",
        "#    o triângulo é Acutângulo, Retângulo ou Obtusângulo. Sendo que: − Triângulo\n",
        "#    Retângulo: possui um ângulo reto. (igual a 90º) − Triângulo Obtusângulo: possui\n",
        "#    um ângulo obtuso. (maior que90º) − Triângulo Acutângulo: possui três ângulos\n",
        "#    agudos. (menor que 90º)\n",
        "\n",
        "# Cabeçalho\n",
        "print('Para descrobrir qual Triângulo pelo seu angulo digite as seguintes informações: ') #Cabeçalho\n",
        "\n",
        "# Coletando informações\n",
        "num1 = float(input('Digite o primeiro ângulo: '))\n",
        "num2 = float(input('Digite o segundo ângulo: '))\n",
        "num3 = float(input('Digite o terceiro ângulo: '))\n",
        "\n",
        "# Decifrando o triângulo\n",
        "if (num1==90) or (num2==90) or (num3==90): # Triângulo Retângulo\n",
        "  print(\"Triângulo Retângulo\")\n",
        "elif (num1>90) or (num2>90) or (num3>90): # Triângulo Obtusângulo\n",
        "  print(\"Triângulo Obtusângulo\")\n",
        "elif (num1<90) and (num2<90) and (num3<90): # Triângulo Acutângulo\n",
        "  print(\"Triângulo Acutângulo\")"
      ],
      "execution_count": null,
      "outputs": [
        {
          "output_type": "stream",
          "text": [
            "Para descrobrir qual Triângulo pelo seu angulo digite as seguintes informações: \n",
            "Digite o primeiro ângulo: 90\n",
            "Digite o segundo ângulo: 45\n",
            "Digite o terceiro ângulo: 45\n",
            "Triângulo Retângulo\n"
          ],
          "name": "stdout"
        }
      ]
    },
    {
      "cell_type": "code",
      "metadata": {
        "colab": {
          "base_uri": "https://localhost:8080/"
        },
        "id": "g2EJGRe-yO-R",
        "outputId": "8fb6bb30-d4a0-4fb4-9a6b-48f469650808"
      },
      "source": [
        "# 6. Faça um programa para ler um número inteiro e imprimir todos os números de 0\n",
        "#    até o número lido.\n",
        "\n",
        "# Coletando informações\n",
        "num = int(input(\"Digite um número inteiro: \"))\n",
        "\n",
        "# Variavel para receber a soma\n",
        "soma = -1\n",
        "\n",
        "# Laço e impressão\n",
        "for _ in range (0,num+1): \n",
        "  soma += 1\n",
        "  print(soma)\n",
        "\n",
        "\n"
      ],
      "execution_count": null,
      "outputs": [
        {
          "output_type": "stream",
          "text": [
            "Digite um número inteiro: 13\n",
            "0\n",
            "1\n",
            "2\n",
            "3\n",
            "4\n",
            "5\n",
            "6\n",
            "7\n",
            "8\n",
            "9\n",
            "10\n",
            "11\n",
            "12\n",
            "13\n"
          ],
          "name": "stdout"
        }
      ]
    },
    {
      "cell_type": "code",
      "metadata": {
        "colab": {
          "base_uri": "https://localhost:8080/"
        },
        "id": "M-Q_1-LO1Hk7",
        "outputId": "2bebd802-34a5-4c15-f5fb-b6f65ece086f"
      },
      "source": [
        "# 7. Solicitar um número entre 1 e 4. Se a pessoas digitar um número diferente,\n",
        "#    mostrar a mensagem \"entrada inválida\" e solicitar o número novamente. Se\n",
        "#    digitar correto mostrar o número digitado.\n",
        "\n",
        "x = int(input(\"Digite um número entre 1 e 4: \")) # inserindo o número\n",
        "\n",
        "if x < 1 or x > 4: \n",
        "  while True: # laço para validar\n",
        "    if x < 1 or x > 4: # Verificação\n",
        "      print('Entrada inválida')\n",
        "    x = int(input(\"Digite um número entre 1 e 4: \")) # Nova Mensagem\n",
        "    if x >= 1 and x <= 4:\n",
        "      break\n",
        "\n",
        "print(x)"
      ],
      "execution_count": null,
      "outputs": [
        {
          "output_type": "stream",
          "text": [
            "Digite um número entre 1 e 4: 6\n",
            "Entrada inválida\n",
            "Digite um número entre 1 e 4: 00\n",
            "Entrada inválida\n",
            "Digite um número entre 1 e 4: -8\n",
            "Entrada inválida\n",
            "Digite um número entre 1 e 4: 3\n",
            "3\n"
          ],
          "name": "stdout"
        }
      ]
    },
    {
      "cell_type": "code",
      "metadata": {
        "colab": {
          "base_uri": "https://localhost:8080/"
        },
        "id": "XaCAYbFA02Cz",
        "outputId": "1df115d7-b237-413c-f8b9-8165249cd419"
      },
      "source": [
        "# 8. Fazer um programa que receba vários valores inteiros no teclado (um valor a\n",
        "#    cada iteração) e determine o maior dos colocados desde o inicio do programa. A\n",
        "#    condição de término do programa é quando o usuário digitar zero.\n",
        "\n",
        "\n",
        "teste1 = [] # List para suportar os valores \n",
        "\n",
        "while True: # loop pra inserir os valores\n",
        "  num = float(input('Insira um número: [Digite 0 para SAIR]'))\n",
        "  teste1.append(num)\n",
        "  \n",
        "  if num == 0: # Saída do loop\n",
        "    break\n",
        "\n",
        "print(f'O maior valor é: {max(teste1)}') # Impressão do resultado"
      ],
      "execution_count": null,
      "outputs": [
        {
          "output_type": "stream",
          "text": [
            "Insira um número: [Digite 0 para SAIR]8\n",
            "Insira um número: [Digite 0 para SAIR]23\n",
            "Insira um número: [Digite 0 para SAIR]933\n",
            "Insira um número: [Digite 0 para SAIR]0\n",
            "[8.0, 23.0, 933.0, 0.0]\n",
            "O maior valor é: 933.0\n"
          ],
          "name": "stdout"
        }
      ]
    },
    {
      "cell_type": "code",
      "metadata": {
        "id": "ENqWQZz8DCTZ",
        "colab": {
          "base_uri": "https://localhost:8080/"
        },
        "outputId": "73ad6c14-42a7-476f-c412-c32773095a00"
      },
      "source": [
        "# 9. Escreva um programa Python que leia um número inteiro positivo de 4 dígitos,\n",
        "#    calcule e mostre a sua decomposição em unidade, dezena, centena e milhar:\n",
        "#    Exemplo: 8531; unidade = 1 dezena = 3 centena = 5 5 milhar = 8\n",
        "\n",
        "teste = [] # Criando a lista\n",
        "num = 0 # Criando a variavel em branco\n",
        " \n",
        "while True: # Laço\n",
        " num = int(input('Digete um número com 4 dígitos: ')) # Recebendo o número\n",
        "\n",
        " if num < 1000 or num > 9999: # Validação do número\n",
        "   print('Erro, número inválido') \n",
        "   num = int(input('Digete um número com 4 dígitos: ')) \n",
        "  \n",
        " teste = str(num) # Transformando o número na lista\n",
        " break\n",
        "\n",
        "# Impressão dos números\n",
        "\n",
        "print(f'Milhar: {teste[0]}')\n",
        "print(f'Centena: {teste[1]}')\n",
        "print(f'Dezena: {teste[2]}')\n",
        "print(f'Unidade: {teste[3]}')\n",
        "\n",
        "\n"
      ],
      "execution_count": 87,
      "outputs": [
        {
          "output_type": "stream",
          "text": [
            "Digete um número com 4 dígitos: 15000\n",
            "Erro, número inválido\n",
            "Digete um número com 4 dígitos: 1994\n",
            "Milhar: 1\n",
            "Centena: 9\n",
            "Dezena: 9\n",
            "Unidade: 4\n"
          ],
          "name": "stdout"
        }
      ]
    },
    {
      "cell_type": "code",
      "metadata": {
        "id": "E0yUPgxrgtR4"
      },
      "source": [
        ""
      ],
      "execution_count": null,
      "outputs": []
    }
  ]
}